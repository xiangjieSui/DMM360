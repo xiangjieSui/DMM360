{
  "nbformat": 4,
  "nbformat_minor": 0,
  "metadata": {
    "colab": {
      "provenance": [],
      "toc_visible": true
    },
    "kernelspec": {
      "name": "python3",
      "display_name": "Python 3"
    },
    "language_info": {
      "name": "python"
    }
  },
  "cells": [
    {
      "cell_type": "code",
      "execution_count": null,
      "metadata": {
        "id": "dIVSPmFFyyHE"
      },
      "outputs": [],
      "source": [
        "import inference\n",
        "dmm = DMM(use_cuda=config.use_cuda)\n",
        "dmm.load_state_dict(torch.load('./model/model_lr-0.0003_bs-64_epoch-435.pkl'))"
      ]
    },
    {
      "cell_type": "markdown",
      "source": [
        "d "
      ],
      "metadata": {
        "id": "6msGRNetzHoB"
      }
    },
    {
      "cell_type": "code",
      "source": [
        "mytest = Inference(model=dmm,img_path='./demo/input',n_scanpaths=100,length=20,output_path='./demo/output', if_plot=False)"
      ],
      "metadata": {
        "id": "Q9dcP7LPy_j5"
      },
      "execution_count": null,
      "outputs": []
    },
    {
      "cell_type": "markdown",
      "source": [
        "d"
      ],
      "metadata": {
        "id": "FceFpXtO0hBe"
      }
    },
    {
      "cell_type": "code",
      "source": [
        "mytest.predict()\n"
      ],
      "metadata": {
        "id": "hh3-jSTU0fkQ"
      },
      "execution_count": null,
      "outputs": []
    }
  ]
}